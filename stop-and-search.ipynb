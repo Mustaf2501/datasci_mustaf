{
 "cells": [
  {
   "cell_type": "code",
   "execution_count": 1,
   "metadata": {},
   "outputs": [],
   "source": [
    "import pandas\n",
    "import numpy as np\n",
    "import scipy.optimize"
   ]
  },
  {
   "cell_type": "markdown",
   "metadata": {},
   "source": [
    "# Police dataset\n",
    "This dataset is from [https://data.police.uk/](https://data.police.uk/). Code for retrieving the dataset is given at the bottom."
   ]
  },
  {
   "cell_type": "code",
   "execution_count": 83,
   "metadata": {},
   "outputs": [
    {
     "name": "stdout",
     "output_type": "stream",
     "text": [
      "file already downloaded\n"
     ]
    }
   ],
   "source": [
    "import os\n",
    "if os.path.exists('stop-and-search_202308.csv'):\n",
    "    print(\"file already downloaded\")\n",
    "else:\n",
    "    !wget \"https://www.cl.cam.ac.uk/teaching/current/DataSci/data/stop-and-search_202308.csv\"\n",
    "police = pandas.read_csv('stop-and-search_202308.csv')"
   ]
  },
  {
   "cell_type": "markdown",
   "metadata": {},
   "source": [
    "## Basic tabulations"
   ]
  },
  {
   "cell_type": "code",
   "execution_count": 88,
   "metadata": {},
   "outputs": [
    {
     "data": {
      "text/plain": [
       "Index(['force', 'month', 'Type', 'Date', 'Part of a policing operation',\n",
       "       'Policing operation', 'Latitude', 'Longitude', 'Gender', 'Age range',\n",
       "       'Self-defined ethnicity', 'Officer-defined ethnicity', 'Legislation',\n",
       "       'Object of search', 'Outcome', 'Outcome linked to object of search',\n",
       "       'Removal of more than just outer clothing'],\n",
       "      dtype='object')"
      ]
     },
     "execution_count": 88,
     "metadata": {},
     "output_type": "execute_result"
    }
   ],
   "source": [
    "police.columns"
   ]
  },
  {
   "cell_type": "code",
   "execution_count": 87,
   "metadata": {},
   "outputs": [
    {
     "name": "stdout",
     "output_type": "stream",
     "text": [
      "A no further action disposal       1103890\n",
      "Arrest                              192453\n",
      "Community resolution                120487\n",
      "Summons / charged by post            27649\n",
      "Penalty Notice for Disorder          21579\n",
      "Khat or Cannabis warning             14301\n",
      "Caution (simple or conditional)       5478\n",
      "Name: Outcome, dtype: int64\n",
      "Missing values: 32463\n"
     ]
    }
   ],
   "source": [
    "print(police['Outcome'].value_counts())\n",
    "print('Missing values:', np.sum(pandas.isna(police['Outcome'])))"
   ]
  },
  {
   "cell_type": "code",
   "execution_count": 89,
   "metadata": {},
   "outputs": [
    {
     "name": "stdout",
     "output_type": "stream",
     "text": [
      "White    893012\n",
      "Black    277950\n",
      "Asian    179884\n",
      "Other     45571\n",
      "Mixed      3566\n",
      "Name: Officer-defined ethnicity, dtype: int64\n",
      "Missing values: 118317\n"
     ]
    }
   ],
   "source": [
    "print(police['Officer-defined ethnicity'].value_counts())\n",
    "print('Missing values:', np.sum(pandas.isna(police['Officer-defined ethnicity'])))"
   ]
  },
  {
   "cell_type": "code",
   "execution_count": 90,
   "metadata": {},
   "outputs": [
    {
     "name": "stdout",
     "output_type": "stream",
     "text": [
      "Male      1290022\n",
      "Female     149925\n",
      "Other        4134\n",
      "Name: Gender, dtype: int64\n",
      "Missing values: 74219\n"
     ]
    }
   ],
   "source": [
    "print(police['Gender'].value_counts())\n",
    "print('Missing values:', np.sum(pandas.isna(police['Gender'])))"
   ]
  },
  {
   "cell_type": "markdown",
   "metadata": {},
   "source": [
    "## Data preparation"
   ]
  },
  {
   "cell_type": "code",
   "execution_count": 105,
   "metadata": {},
   "outputs": [],
   "source": [
    "# Let's treat outcome \"A no further action disposal\" as nothing found\n",
    "# Prepare vectors y=1[something found], eth, and gender,\n",
    "# and remove rows with missing values.\n",
    "\n",
    "df = police[['Outcome', 'Officer-defined ethnicity', 'Gender']].dropna()\n",
    "df['outcome'] = np.where(df['Outcome']=='A no further action disposal', 'nothing', 'found')\n",
    "\n",
    "y = np.where(df['outcome']=='found', 1, 0)\n",
    "eth = df['Officer-defined ethnicity']\n",
    "gender = df['Gender']\n",
    "\n",
    "# Define e and g to be integer-encoded versions of ethnicity and gender.\n",
    "# (For the purposes of this analysis, it'll be more useful than one-hot encoding.)\n",
    "\n",
    "ethnicity_levels = ['Asian','Black','Mixed','Other','White']\n",
    "gender_levels = ['Female', 'Male', 'Other']\n",
    "assert all(eth.isin(ethnicity_levels))\n",
    "assert all(gender.isin(gender_levels))"
   ]
  },
  {
   "cell_type": "code",
   "execution_count": 94,
   "metadata": {},
   "outputs": [
    {
     "name": "stdout",
     "output_type": "stream",
     "text": [
      "Officer-defined ethnicity   Asian   Black  Mixed  Other   White\n",
      "outcome Gender                                                 \n",
      "found   Female               1806    4340    123    594   26168\n",
      "        Male                43022   67734    896  10796  197688\n",
      "        Other                  37      31      2     30     360\n",
      "nothing Female               5001   11931    266   1561   88011\n",
      "        Male               121629  190654   2224  31302  556743\n",
      "        Other                 123     269      8    161    1085\n"
     ]
    }
   ],
   "source": [
    "x = df.groupby(['outcome','Gender','Officer-defined ethnicity']).apply(len).unstack(fill_value=0)\n",
    "print(x)"
   ]
  },
  {
   "cell_type": "markdown",
   "metadata": {},
   "source": [
    "## A naive linear model\n",
    "Let $y$ be the indicator of whether something was found.\n",
    "We'll use least squares to fit the simple model\n",
    "$\n",
    "y \\approx \\beta_\\text{eth}\n",
    "$.\n",
    "\n",
    "In other words, we're using maximum likelihood estimation to fit\n",
    "$\n",
    "Y \\sim N(\\beta_\\text{eth},\\sigma^2).\n",
    "$"
   ]
  },
  {
   "cell_type": "code",
   "execution_count": 109,
   "metadata": {},
   "outputs": [
    {
     "data": {
      "text/plain": [
       "Asian    0.261424\n",
       "Black    0.262239\n",
       "Mixed    0.290139\n",
       "Other    0.256953\n",
       "White    0.257703\n",
       "dtype: float64"
      ]
     },
     "execution_count": 109,
     "metadata": {},
     "output_type": "execute_result"
    }
   ],
   "source": [
    "import sklearn.linear_model\n",
    "X = np.column_stack([np.where(eth==k,1,0) for k in ethnicity_levels])\n",
    "m = sklearn.linear_model.LinearRegression(fit_intercept=False)\n",
    "m.fit(X, y)\n",
    "pandas.Series(m.coef_, index=ethnicity_levels)"
   ]
  },
  {
   "cell_type": "markdown",
   "metadata": {},
   "source": [
    "## Logistic regression\n",
    "\n",
    "It's more sensible to model this binary response as a Binomial random variable, $Y\\sim \\operatorname{Bin}(1,p_\\text{eth})$.\n",
    "\n",
    "This is a constrained optimization, since each probability $p_\\text{eth}$ must lie in the range $[0,1]$. \n",
    "(There's no constraint on the sum of the $p_\\text{eth}$; each ethnic group can have its own $p_\\text{eth}$ regardless of the other ethnic groups.)\n",
    "To ensure this, let's use the parameterization\n",
    "$$\n",
    "p_\\text{eth} =  \\frac{e^{s_\\text{eth}}}{1+e^{s_\\text{eth}}}.\n",
    "$$\n",
    "The log likelihood for an individual observation is\n",
    "$$\n",
    "\\log\\operatorname{Pr}_Y(y) = \\beta_\\text{eth} 1_{y=1} - \\log(1+e^{\\beta_\\text{eth}})\n",
    "$$\n",
    "and the log likelihood for the entire dataset is\n",
    "$$\n",
    "\\log\\operatorname{Pr}(y_1,\\dots,y_n) = \\sum_{i=1}^n \\bigl[\\theta_i 1_{y_i=1} - \\log(1+e^{\\theta_i})\\bigr]\n",
    "\\qquad\\text{where }\n",
    "\\theta_i = \\beta_{\\text{eth}_i}.\n",
    "$$"
   ]
  },
  {
   "cell_type": "code",
   "execution_count": 130,
   "metadata": {},
   "outputs": [
    {
     "name": "stdout",
     "output_type": "stream",
     "text": [
      "Optimization terminated successfully.\n",
      "         Current function value: 780743.609856\n",
      "         Iterations: 776\n",
      "         Function evaluations: 1238\n"
     ]
    },
    {
     "data": {
      "text/plain": [
       "Asian    0.261425\n",
       "Black    0.262239\n",
       "Mixed    0.290130\n",
       "Other    0.256951\n",
       "White    0.257703\n",
       "dtype: float64"
      ]
     },
     "execution_count": 130,
     "metadata": {},
     "output_type": "execute_result"
    }
   ],
   "source": [
    "ethnicity_code = {k:i for i,k in enumerate(ethnicity_levels)}\n",
    "e = np.array([ethnicity_code[v] for v in eth])\n",
    "\n",
    "def loglik(s):\n",
    "    # This is a very silly implementation. The dataframe has 1.3 million rows, and there are only 5 classes,\n",
    "    # so it'd be far more efficient to rewrite the log likelihood as a sum over 5 classes.\n",
    "    θ = s[e]  # [gives θ1,...,θn]\n",
    "    return np.sum(θ * np.where(y==1,1,0) - np.log(1+np.exp(θ)))\n",
    "\n",
    "initial_guess = np.array([0 for _ in ethnicity_levels])\n",
    "βhat = scipy.optimize.fmin(lambda s: -loglik(s), initial_guess, maxiter=1000)\n",
    "\n",
    "phat = np.exp(βhat) / (1 + np.exp(βhat))\n",
    "pandas.Series(phat, index=ethnicity_levels)"
   ]
  },
  {
   "cell_type": "markdown",
   "metadata": {},
   "source": [
    "Another way to achieve the same result is using `sklearn.linear_model.LogisticRegression`. This is for fitting the model\n",
    "$$\n",
    "\\log\\operatorname{Pr}(y_1,\\dots,y_n) = \\sum_{i=1}^n \\bigl[\\theta_i 1_{y_i=1} - \\log(1+e^{\\theta_i})\\bigr]\n",
    "$$\n",
    "where the $\\theta$ vector is a linear combination of feature vectors, similar to simple least-squares fitting:\n",
    "$$\n",
    "\\theta_i = \\beta_1 e_{1,i} + \\dots + \\beta_K e_{K,i}\n",
    "$$"
   ]
  },
  {
   "cell_type": "code",
   "execution_count": 131,
   "metadata": {},
   "outputs": [
    {
     "data": {
      "text/plain": [
       "Asian    0.261426\n",
       "Black    0.262243\n",
       "Mixed    0.290366\n",
       "Other    0.256982\n",
       "White    0.257704\n",
       "dtype: float64"
      ]
     },
     "execution_count": 131,
     "metadata": {},
     "output_type": "execute_result"
    }
   ],
   "source": [
    "import sklearn.linear_model\n",
    "X = np.column_stack([np.where(eth==k,1,0) for k in ethnicity_levels])\n",
    "m = sklearn.linear_model.LogisticRegression(fit_intercept=False)\n",
    "m.fit(X, y)\n",
    "\n",
    "shat = m.coef_[0]\n",
    "phat = np.exp(shat) / (1 + np.exp(shat))\n",
    "pandas.Series(phat, index=ethnicity_levels)"
   ]
  },
  {
   "cell_type": "markdown",
   "metadata": {},
   "source": [
    "## A simple intersectional model to look at ethnicity and gender\n",
    "We'll first use least-squares estimation to fit the model\n",
    "$$\n",
    "y \\approx \\alpha + \\beta_\\text{eth} + \\gamma_\\text{gender}.\n",
    "$$\n",
    "We'll then fit the model\n",
    "$$\n",
    "y \\approx \\delta_{\\text{eth},\\text{gender}}.\n",
    "$$\n",
    "The first model assumes that the effects of ethnicity and gender are additive. The second model\n",
    "allows an arbitrary response for each ethnicity-gender pair.\n",
    "The _difference_ between the two models thus tells us how much of the response is _not_ explained\n",
    "by simple addition of effects."
   ]
  },
  {
   "cell_type": "code",
   "execution_count": 205,
   "metadata": {},
   "outputs": [],
   "source": [
    "X = np.column_stack([np.where(eth==k,1,0) for k in ethnicity_levels][1:] + [np.where(gender==k,1,0) for k in gender_levels][1:])\n",
    "m0 = sklearn.linear_model.LinearRegression()\n",
    "m0.fit(X, y)\n",
    "\n",
    "df = pandas.DataFrame({'eth': eth, 'gender': gender}).drop_duplicates()\n",
    "X = np.column_stack([np.where(df.eth==k,1,0) for k in ethnicity_levels][1:] + [np.where(df.gender==k,1,0) for k in gender_levels][1:])\n",
    "df['pred'] = m0.predict(X)\n",
    "res0 = df.set_index(['gender','eth'])['pred']"
   ]
  },
  {
   "cell_type": "code",
   "execution_count": 206,
   "metadata": {},
   "outputs": [],
   "source": [
    "X = np.column_stack([np.where((eth==k1) & (gender==k2),1,0) for k1 in ethnicity_levels for k2 in gender_levels])\n",
    "m1 = sklearn.linear_model.LinearRegression(fit_intercept=False)\n",
    "m1.fit(X, y)\n",
    "\n",
    "df = pandas.DataFrame({'eth': eth, 'gender': gender}).drop_duplicates()\n",
    "X = np.column_stack([np.where((df.eth==k1) & (df.gender==k2),1,0) for k1 in ethnicity_levels for k2 in gender_levels])\n",
    "df['pred'] = m1.predict(X)\n",
    "res1 = df.set_index(['gender','eth'])['pred']"
   ]
  },
  {
   "cell_type": "code",
   "execution_count": 207,
   "metadata": {},
   "outputs": [
    {
     "name": "stdout",
     "output_type": "stream",
     "text": [
      "ethnicity coefficients, compared to Asian\n",
      "Black    0.001315\n",
      "Mixed    0.030587\n",
      "Other   -0.004103\n",
      "White   -0.001378\n",
      "dtype: float64\n",
      "\n",
      "gender coefficients, compared to Female\n",
      "Male     0.025243\n",
      "Other   -0.017813\n",
      "dtype: float64\n"
     ]
    }
   ],
   "source": [
    "# Ethnicity and gender effects, from the additive model\n",
    "\n",
    "K = len(ethnicity_levels)\n",
    "print(\"ethnicity coefficients, compared to\", ethnicity_levels[0])\n",
    "print(pandas.Series(m0.coef_[:K-1], index=ethnicity_levels[1:]))\n",
    "print()\n",
    "print(\"gender coefficients, compared to\", gender_levels[0])\n",
    "print(pandas.Series(m0.coef_[K-1:], index=gender_levels[1:]))"
   ]
  },
  {
   "cell_type": "code",
   "execution_count": 209,
   "metadata": {},
   "outputs": [
    {
     "data": {
      "text/html": [
       "<div>\n",
       "<style scoped>\n",
       "    .dataframe tbody tr th:only-of-type {\n",
       "        vertical-align: middle;\n",
       "    }\n",
       "\n",
       "    .dataframe tbody tr th {\n",
       "        vertical-align: top;\n",
       "    }\n",
       "\n",
       "    .dataframe thead th {\n",
       "        text-align: right;\n",
       "    }\n",
       "</style>\n",
       "<table border=\"1\" class=\"dataframe\">\n",
       "  <thead>\n",
       "    <tr style=\"text-align: right;\">\n",
       "      <th>eth</th>\n",
       "      <th>Asian</th>\n",
       "      <th>Black</th>\n",
       "      <th>Mixed</th>\n",
       "      <th>Other</th>\n",
       "      <th>White</th>\n",
       "    </tr>\n",
       "    <tr>\n",
       "      <th>gender</th>\n",
       "      <th></th>\n",
       "      <th></th>\n",
       "      <th></th>\n",
       "      <th></th>\n",
       "      <th></th>\n",
       "    </tr>\n",
       "  </thead>\n",
       "  <tbody>\n",
       "    <tr>\n",
       "      <th>Female</th>\n",
       "      <td>2.809339</td>\n",
       "      <td>2.819563</td>\n",
       "      <td>4.838659</td>\n",
       "      <td>4.251973</td>\n",
       "      <td>-0.666020</td>\n",
       "    </tr>\n",
       "    <tr>\n",
       "      <th>Male</th>\n",
       "      <td>-0.117294</td>\n",
       "      <td>-0.163922</td>\n",
       "      <td>-0.587257</td>\n",
       "      <td>-0.191237</td>\n",
       "      <td>0.094841</td>\n",
       "    </tr>\n",
       "    <tr>\n",
       "      <th>Other</th>\n",
       "      <td>1.184167</td>\n",
       "      <td>-11.738986</td>\n",
       "      <td>-4.999538</td>\n",
       "      <td>-5.823686</td>\n",
       "      <td>3.110414</td>\n",
       "    </tr>\n",
       "  </tbody>\n",
       "</table>\n",
       "</div>"
      ],
      "text/plain": [
       "eth        Asian      Black     Mixed     Other     White\n",
       "gender                                                   \n",
       "Female  2.809339   2.819563  4.838659  4.251973 -0.666020\n",
       "Male   -0.117294  -0.163922 -0.587257 -0.191237  0.094841\n",
       "Other   1.184167 -11.738986 -4.999538 -5.823686  3.110414"
      ]
     },
     "execution_count": 209,
     "metadata": {},
     "output_type": "execute_result"
    }
   ],
   "source": [
    "# Intersectionality, i.e. difference between the full interaction model and the additive model.\n",
    "# Entries with -ve values mean Prob(find) is lower than expected, i.e. police stop more innocent people,\n",
    "# entries with +ve values mean Prob(find) is higher than expected, i.e. police stop fewer innocent people,\n",
    "# relative to what we'd expect from their ethnicity and gender alone.\n",
    "\n",
    "(res1 - res0).unstack() * 100"
   ]
  },
  {
   "cell_type": "markdown",
   "metadata": {},
   "source": [
    "# Retrieving the dataset"
   ]
  },
  {
   "cell_type": "code",
   "execution_count": 37,
   "metadata": {},
   "outputs": [],
   "source": [
    "import pandas\n",
    "import re\n",
    "import pathlib\n",
    "import os"
   ]
  },
  {
   "cell_type": "code",
   "execution_count": 80,
   "metadata": {},
   "outputs": [],
   "source": [
    "# Go to https://data.police.uk/data/\n",
    "# Choose Custom Download: all forces, earliest date to latest date, stop-and-search data\n",
    "# Download a zip file, and unzip it\n",
    "\n",
    "ROOT_FOLDER = os.path.expanduser(\"~/winhome/Downloads/529b04592726f112e90ac22ff31caa31fd0081cc\")\n",
    "\n",
    "filenames = list(pathlib.Path(ROOT_FOLDER).rglob('*stop-and-search.csv'))\n",
    "assert len(filenames) > 0, \"No matching files. Did you download stop-and-search data?\"\n",
    "\n",
    "def get_dataframe(path):\n",
    "    m = re.match(r'(?P<month>\\d{4}-\\d{2})-(?P<force>.+)-stop-and-search', path.stem)\n",
    "    df = pandas.read_csv(path)\n",
    "    df.insert(0, 'month', m.group('month'))\n",
    "    df.insert(0, 'force', m.group('force'))\n",
    "    return df\n",
    "df = [get_dataframe(p) for p in filenames]\n",
    "\n",
    "police = pandas.concat(df, axis=0, ignore_index=True, sort=False)"
   ]
  },
  {
   "cell_type": "code",
   "execution_count": 81,
   "metadata": {},
   "outputs": [],
   "source": [
    "police.to_csv('stop-and-search_202308.csv', index=False)"
   ]
  },
  {
   "cell_type": "code",
   "execution_count": null,
   "metadata": {},
   "outputs": [],
   "source": []
  }
 ],
 "metadata": {
  "kernelspec": {
   "display_name": "Python 3 (ipykernel)",
   "language": "python",
   "name": "python3"
  },
  "language_info": {
   "codemirror_mode": {
    "name": "ipython",
    "version": 3
   },
   "file_extension": ".py",
   "mimetype": "text/x-python",
   "name": "python",
   "nbconvert_exporter": "python",
   "pygments_lexer": "ipython3",
   "version": "3.10.12"
  }
 },
 "nbformat": 4,
 "nbformat_minor": 2
}
