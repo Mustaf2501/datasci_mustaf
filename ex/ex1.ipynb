{
 "cells": [
  {
   "cell_type": "code",
   "execution_count": null,
   "id": "8b730ce9",
   "metadata": {},
   "outputs": [],
   "source": [
    "import numpy as np\n",
    "import scipy.optimize\n",
    "import sklearn.linear_model"
   ]
  },
  {
   "cell_type": "markdown",
   "id": "6201925b",
   "metadata": {},
   "source": [
    "# Data Science\n",
    "## Example Sheet 1 &mdash; practical exercises"
   ]
  },
  {
   "cell_type": "markdown",
   "id": "aae6a70e",
   "metadata": {},
   "source": [
    "**Poisson model.** Suppose we're given a dataset $[x_1,\\dots,x_n]$. We wish to fit the model that says each $x_i$ is an independent sample from \n",
    "the Poisson(λ) distribution. Estimate λ using `scipy.optimize.fmin`."
   ]
  },
  {
   "cell_type": "code",
   "execution_count": null,
   "id": "3fcb3bae",
   "metadata": {},
   "outputs": [],
   "source": [
    "class PoissonModel():\n",
    "    def __init__(self):\n",
    "        self.λ_ = np.nan\n",
    "    def fit(self, x):\n",
    "        # Input: x is a numpy vector of integers\n",
    "        # TODO: set self.λ_"
   ]
  },
  {
   "cell_type": "markdown",
   "id": "a9e2df5c",
   "metadata": {},
   "source": [
    "**Piecewise linear response.** Suppose we're given a dataset of $(x_i,y_i)$ pairs. We wish to fit a model for $y$ as a function of $x$, made up of two straight lines. The function must be continuous, i.e. the two straight lines must meet at an inflection point. The inflection point is given.\n",
    "<br>\n",
    "<img src=\"ex1_piecewiselinear.png\" style=\"height:12em\"/>"
   ]
  },
  {
   "cell_type": "code",
   "execution_count": null,
   "id": "77982592",
   "metadata": {},
   "outputs": [],
   "source": [
    "class PiecewiseLinearModel():\n",
    "    def predict(self, x):\n",
    "        # Input: x is a numpy vector of real numbers\n",
    "        # TODO: return a numpy vector of real numbers, with the predicted y values\n",
    "    def fit(self, x, y, inflection_x):\n",
    "        # Input: x and y are numpy vectors of real numbers, inflection_x is a real number\n",
    "        # TODO: fit the model, and store its parameters"
   ]
  },
  {
   "cell_type": "markdown",
   "id": "d2f13412",
   "metadata": {},
   "source": [
    "**Stepwise climate model.** We're given a time series consisting of $(t_i,\\text{temp}_i)$ pairs, recording average daily temperatures in &deg;C. Here time is measured in years, and readings are monthly. We wish to fit a model which describes the temperature as a sinusoid plus a step response function, \n",
    "$$\n",
    "\\text{temp} \\approx \\beta_1 sin(2\\pi t)+\\beta_2 cos(2\\pi t) + ???\n",
    "$$\n",
    "where the last term tells us the decadal average temperature. (Take decades to be represented by their start year, `np.floor(t/10)*10`.)\n",
    "<br>\n",
    "<img src=\"ex1_climatestep.png\" style=\"height:12em\"/>"
   ]
  },
  {
   "cell_type": "code",
   "execution_count": null,
   "id": "4c60a2d5",
   "metadata": {},
   "outputs": [],
   "source": [
    "class StepPeriodicModel():\n",
    "    def predict_step(self, t):\n",
    "        # Input: t is a numpy vector of real numbers\n",
    "        # TODO: return a numpy vector of real numbers, with the predicted decadal average temperatures\n",
    "        # (It should return np.nan for timepoints outside the range where we have data)\n",
    "    def fit(self, t, temp):\n",
    "        # Input: x and y are numpy vectors of real numbers\n",
    "        # TODO: fit the model, and store its parameters"
   ]
  },
  {
   "cell_type": "markdown",
   "id": "53237682",
   "metadata": {},
   "source": [
    "# TEST\n",
    "NOTE: The Moodle checker will look for a markdown cell with the contents `# TEST`, and ignore everything beneath it. Put your working code above this cell, and put any experiments and tests below."
   ]
  },
  {
   "cell_type": "code",
   "execution_count": null,
   "id": "26d17879",
   "metadata": {},
   "outputs": [],
   "source": [
    "import pandas\n",
    "import matplotlib.pyplot as plt"
   ]
  },
  {
   "cell_type": "code",
   "execution_count": null,
   "id": "d0db817c",
   "metadata": {},
   "outputs": [],
   "source": [
    "# Test the Poisson model (where we know the true answer from algebra)\n",
    "\n",
    "x = [3,2,8,1,5,0,8]\n",
    "m = PoissonModel()\n",
    "m.fit(x)\n",
    "assert np.isclose(m.λ_, np.mean(x), rtol=1e-3)"
   ]
  },
  {
   "cell_type": "code",
   "execution_count": null,
   "id": "f097a435",
   "metadata": {},
   "outputs": [],
   "source": [
    "# Plot the piecewise linear model\n",
    "\n",
    "df = pandas.read_csv('https://www.cl.cam.ac.uk/teaching/2223/DataSci/data/piecewiselinear.csv')\n",
    "\n",
    "m = PiecewiseLinearModel()\n",
    "m.fit(df.x, df.y, 2.8)\n",
    "\n",
    "fig,ax = plt.subplots(figsize=(3,2))\n",
    "ax.scatter(df.x, df.y, alpha=.5)\n",
    "xnew = np.linspace(0,5,100)\n",
    "ax.plot(xnew, m.predict(xnew), color='black', linestyle='--')\n",
    "plt.show()"
   ]
  },
  {
   "cell_type": "code",
   "execution_count": null,
   "id": "cee26e5e",
   "metadata": {},
   "outputs": [],
   "source": [
    "# Plot the stepwise climate model\n",
    "\n",
    "climate = pandas.read_csv('https://www.cl.cam.ac.uk/teaching/2324/DataSci/data/climate_202309.csv')\n",
    "df = climate.loc[(climate.station=='Oxford') & (~pandas.isna(climate.temp))]\n",
    "\n",
    "m = StepPeriodicModel()\n",
    "m.fit(df.t, df.temp)\n",
    "\n",
    "fig,ax = plt.subplots(figsize=(5,2.5))\n",
    "tnew = np.arange(1850,2030,10)\n",
    "ax.step(tnew, m.predict_step(tnew), where='post')\n",
    "plt.show()"
   ]
  }
 ],
 "metadata": {
  "kernelspec": {
   "display_name": "Python 3 (ipykernel)",
   "language": "python",
   "name": "python3"
  },
  "language_info": {
   "codemirror_mode": {
    "name": "ipython",
    "version": 3
   },
   "file_extension": ".py",
   "mimetype": "text/x-python",
   "name": "python",
   "nbconvert_exporter": "python",
   "pygments_lexer": "ipython3",
   "version": "3.10.12"
  }
 },
 "nbformat": 4,
 "nbformat_minor": 5
}
