{
 "cells": [
  {
   "cell_type": "markdown",
   "metadata": {},
   "source": [
    "# Exercise 0: Python warmup (not assessed)\n",
    "\n",
    "This notebook has some warmup questions, for getting used to Python. It also shows you how to use the automated ticker.\n",
    "\n",
    "This notebook also serves as a guide on how to structure your own notebooks. It's all too easy to create spaghetti code in Jupyter, and if you follow the structure here you'll make life easier for yourself. (For the IA Scientific Computing course you will be assessed ONLY on your answers and on whether you are able to explain your code, NOT on how well structured your code is. Nevertheless, if your code is tangled then you may have trouble explaining it!\n",
    "\n",
    "1. [Initialization](#1.-Initialization)\n",
    "1. [Run-once setup](#2.-Run-once-setup)\n",
    "1. [Answer the questions](#3.-Answer-the-questions)\n",
    "1. [Submit your answers](#4.-Submit-your-answers)\n",
    "\n",
    "* [Model solutions](#Model-solutions-to-the-warmup-exercises)"
   ]
  },
  {
   "cell_type": "markdown",
   "metadata": {},
   "source": [
    "## 1. Initialization\n",
    "\n",
    "Start by importing any required modules."
   ]
  },
  {
   "cell_type": "code",
   "execution_count": null,
   "metadata": {},
   "outputs": [],
   "source": [
    "import math"
   ]
  },
  {
   "cell_type": "markdown",
   "metadata": {},
   "source": [
    "<div class=\"alert alert-danger\">\n",
    "    <strong>Note.</strong>\n",
    "    If you're using <a href=\"https://hub.cl.cam.ac.uk\">hub.cl.cam.ac.uk</a> then it has all the necessary libraries installed.\n",
    "    On other systems you might get an error message like\n",
    "<pre style=\"color:red; background-color:inherit;\">\n",
    "----> 1 import pandas\n",
    "ModuleNotFoundError: No module named 'pandas'\n",
    "</pre>\n",
    "    This means you need to install <code style=\"background-color:inherit\">pandas</code> before you are able to <code style=\"background-color:inherit\">import</code> it. Install it from within Jupyter by running\n",
    "<pre style=\"background-color:inherit\">\n",
    "!pip install pandas\n",
    "</pre>\n",
    "If you're running on your own machine, you only need to do this once. If you're running on Google Colab, for \n",
    "    example, you need to do it every time you get a new server.\n",
    "</div>"
   ]
  },
  {
   "cell_type": "markdown",
   "metadata": {},
   "source": [
    "## 2. Run-once setup\n",
    "\n",
    "Load in any datasets you are using. (For these warmup questions, there aren't any datasets needed.)\n",
    "\n",
    "If there are any general-purpose functions that you've defined, which you plan to use to answer several questions, then place them here. (For these warmup questions, you don't need any such general-purpose functions.)"
   ]
  },
  {
   "cell_type": "markdown",
   "metadata": {},
   "source": [
    "## 3. Answer the questions\n",
    "\n",
    "If a question asks you for a value, just compute it. If a question asks you to define a function, define\n",
    "that function. (For now, just prepare your answers. Submitting them to the automated ticker will come later, in step 4.) \n",
    "\n",
    "When you're asked for a function, you should run one or more tests. Work out by hand the answer you expect, then check your code gives that answer. For these warmup questions, I've suggested testsl; and you can also check your code by looking at the model solutions at the bottom of this notebook. For the assessed ticks, it's up to you to invent the tests, and there's no checking of your code &mdash; the ticker only  looks at the answers you compute.\n",
    "\n",
    "*Organize your code so that it will work correctly if you run it all top-to-bottom.* You can check it using \"Kernel | Restart & Run All\". If your code relies on running the cells in a screwy order, you will confuse yourself and your readers."
   ]
  },
  {
   "cell_type": "markdown",
   "metadata": {},
   "source": [
    "**Question (q0).** Write a function `repeat(x,n)` that, given an integer $n$ and a value $x$, produces a list consisting of $n$ copies of $x$."
   ]
  },
  {
   "cell_type": "code",
   "execution_count": 35,
   "metadata": {},
   "outputs": [],
   "source": [
    "def repeat(x, n):\n",
    "    ... # ???"
   ]
  },
  {
   "cell_type": "code",
   "execution_count": null,
   "metadata": {},
   "outputs": [],
   "source": [
    "# Test it works\n",
    "repeat('me', 3)"
   ]
  },
  {
   "cell_type": "markdown",
   "metadata": {},
   "source": [
    "**Question (q1).** Produce a triple consisting of\n",
    "* the base 10 logarithm of 1200\n",
    "* the tangent of 60 degrees\n",
    "* the square root of 20"
   ]
  },
  {
   "cell_type": "code",
   "execution_count": null,
   "metadata": {},
   "outputs": [],
   "source": [
    "q1ans = ... # ???"
   ]
  },
  {
   "cell_type": "markdown",
   "metadata": {},
   "source": [
    "**Question (q2).** Let $x$ be a list of strings. Write a one-line function to sort $x$ by length, breaking ties alphabetically."
   ]
  },
  {
   "cell_type": "code",
   "execution_count": null,
   "metadata": {},
   "outputs": [],
   "source": [
    "def q2f(x):\n",
    "    ... # ???  "
   ]
  },
  {
   "cell_type": "code",
   "execution_count": null,
   "metadata": {},
   "outputs": [],
   "source": [
    "# Test it works\n",
    "names = ['adrian', 'chloe', 'guarav', 'shay', 'alexis', 'rebecca', 'zubin']\n",
    "q2f(names)\n",
    "# Expect the answer: ['shay', 'chloe', 'zubin', 'adrian', 'alexis', 'guarav', 'rebecca']"
   ]
  },
  {
   "cell_type": "markdown",
   "metadata": {},
   "source": [
    "**Question (q3).** Let $x$ be a list of numbers. Write a one-line function to find the number of unique elements in $x$."
   ]
  },
  {
   "cell_type": "code",
   "execution_count": null,
   "metadata": {},
   "outputs": [],
   "source": [
    "def q3f(x):\n",
    "    ... # ???"
   ]
  },
  {
   "cell_type": "code",
   "execution_count": null,
   "metadata": {},
   "outputs": [],
   "source": [
    "# Test it works\n",
    "q3f([1, 4, 9, 6, 1, 5, 5, 1, 5, 7, 2, 9, 9, 5, 9, 3, 7, 10, 7, 10])\n",
    "# Expect the answer: 9"
   ]
  },
  {
   "cell_type": "markdown",
   "metadata": {},
   "source": [
    "**Question (q4).**<a name=\"lindley\"></a> A simple queue can be simulated by the following equations. Let $q_t$ be the queue size just before timestep $t$, let the service rate be $C$, and let $a_t$ be the amount of work arriving at timestep $t$. Then\n",
    "$$\n",
    "q_{t+1} = \\max(q_t + a_t - C, 0).\n",
    "$$\n",
    "This is called Lindley's Recursion.\n",
    "Write a function `sim(q0,C,a)` to compute the queue sizes. It should accept\n",
    "an initial queue size `q0` and a list `a` consisting of $[a_0,a_1,\\dots,a_{t-1}]$,\n",
    "and it should return a list $[q_1,\\dots,q_t]$."
   ]
  },
  {
   "cell_type": "code",
   "execution_count": null,
   "metadata": {},
   "outputs": [],
   "source": [
    "def sim(q0, C, a):\n",
    "    ... # ???"
   ]
  },
  {
   "cell_type": "code",
   "execution_count": null,
   "metadata": {},
   "outputs": [],
   "source": [
    "# Test it works\n",
    "sim(1, 3, [4, 1, 2, 8, 2, 3, 1])\n",
    "# Expect the answer: [2, 0, 0, 5, 4, 4, 2]"
   ]
  },
  {
   "cell_type": "markdown",
   "metadata": {},
   "source": [
    "**Question (q5).** We can represent a tree as a nested list, for example\n",
    "```\n",
    "x = [1,[[2,4,3],9],[5,[6,7],8]]\n",
    "```\n",
    "Define a function `maptree(x, f)` which returns a tree of the same shape but with the function `f` applied to to every leaf.\n",
    "\n",
    "<img src=\"res/tree.svg\" style=\"height:7em\"></img>"
   ]
  },
  {
   "cell_type": "code",
   "execution_count": null,
   "metadata": {},
   "outputs": [],
   "source": [
    "def maptree(x, f):\n",
    "    ... # ???"
   ]
  },
  {
   "cell_type": "code",
   "execution_count": null,
   "metadata": {},
   "outputs": [],
   "source": [
    "# Test it works\n",
    "x = [1,[[2,4,3],9],[5,[6,7],8]]\n",
    "maptree(x, lambda leaf: leaf + 1)\n",
    "# Expect the answer: [2,[[3,5,4],10],[6,[7,8],9]]"
   ]
  },
  {
   "cell_type": "code",
   "execution_count": null,
   "metadata": {},
   "outputs": [],
   "source": [
    "# Test it works\n",
    "all_leaves = []\n",
    "maptree(x, lambda leaf: all_leaves.append(leaf))\n",
    "all_leaves\n",
    "# Expect the answer: [1,2,4,3,9,5,6,7,8]"
   ]
  },
  {
   "cell_type": "markdown",
   "metadata": {},
   "source": [
    "# 4. Submit your answers\n",
    "\n",
    "Run the following two lines to set up the automatic ticker. (The questions are grouped by section, and here we're working on section `ex0`. For the ticks, you'll be told which section to use.)\n",
    "\n",
    "It will ask you to log in via Raven, and show you your progress so far."
   ]
  },
  {
   "cell_type": "code",
   "execution_count": 1,
   "metadata": {},
   "outputs": [
    {
     "name": "stdout",
     "output_type": "stream",
     "text": [
      "Waiting for you to log in ... done.\n"
     ]
    }
   ],
   "source": [
    "import ucamcl\n",
    "GRADER = ucamcl.autograder('https://markmy.solutions', course='scicomp').subsection('ex0')"
   ]
  },
  {
   "cell_type": "markdown",
   "metadata": {},
   "source": [
    "<div class=\"alert alert-danger\">\n",
    "    <strong>Note.</strong> If you get the error message\n",
    "<pre style=\"color:red; background-color:inherit;\">\n",
    "----> 1 import ucamcl\n",
    "ModuleNotFoundError: No module named 'ucamcl'\n",
    "</pre>\n",
    "    it means you need to install <code style=\"background-color:inherit\">ucamcl</code>. See the comment at the top of this notebook.\n",
    "</div>"
   ]
  },
  {
   "cell_type": "markdown",
   "metadata": {},
   "source": [
    "For each question, you'll be told how to submit your answers. In brief: you call `GRADER.fetch_question` to get a question-object with paramaters, you compute your answer on those parameters, then you call `GRADER.submit_answer` to submit your answer.\n",
    "\n",
    "The reason you're asked to call `fetch_question` is so that different students work with different parameters. You also get different parameters each time you make a fresh attempt. If you print the question-object, it'll show what parameters it has."
   ]
  },
  {
   "cell_type": "code",
   "execution_count": null,
   "metadata": {},
   "outputs": [],
   "source": [
    "# Question q0\n",
    "q = GRADER.fetch_question('q0')\n",
    "ans = repeat(q.x, q.n)\n",
    "GRADER.submit_answer(q, ans)"
   ]
  },
  {
   "cell_type": "code",
   "execution_count": null,
   "metadata": {},
   "outputs": [],
   "source": [
    "# Question q1\n",
    "GRADER.submit_answer(GRADER.fetch_question('q1'), q1ans)"
   ]
  },
  {
   "cell_type": "code",
   "execution_count": null,
   "metadata": {},
   "outputs": [],
   "source": [
    "# Question q2\n",
    "q = GRADER.fetch_question('q2')\n",
    "ans = q2f(q.x)\n",
    "GRADER.submit_answer(q, ans)"
   ]
  },
  {
   "cell_type": "code",
   "execution_count": null,
   "metadata": {},
   "outputs": [],
   "source": [
    "# Question q3\n",
    "q = GRADER.fetch_question('q3')\n",
    "ans = q3f(q.x)\n",
    "GRADER.submit_answer(q, ans)"
   ]
  },
  {
   "cell_type": "code",
   "execution_count": null,
   "metadata": {},
   "outputs": [],
   "source": [
    "# Question q4\n",
    "q = GRADER.fetch_question('q4')\n",
    "ans = sim(q0=q.q0, C=q.C, a=q.a)\n",
    "GRADER.submit_answer(q, ans)"
   ]
  },
  {
   "cell_type": "code",
   "execution_count": null,
   "metadata": {},
   "outputs": [],
   "source": [
    "# Question q5\n",
    "q = GRADER.fetch_question('q5')\n",
    "ans = maptree(q.x, lambda z: f\"leaf({z})\")\n",
    "GRADER.submit_answer(q, ans)"
   ]
  },
  {
   "cell_type": "markdown",
   "metadata": {},
   "source": [
    "<div style=\"height: 80vh\"></div>"
   ]
  },
  {
   "cell_type": "markdown",
   "metadata": {},
   "source": [
    "# Model solutions to the warmup exercises"
   ]
  },
  {
   "cell_type": "code",
   "execution_count": 39,
   "metadata": {},
   "outputs": [],
   "source": [
    "def repeat(x, n):\n",
    "    return [x]*n"
   ]
  },
  {
   "cell_type": "code",
   "execution_count": 40,
   "metadata": {},
   "outputs": [],
   "source": [
    "import math\n",
    "\n",
    "q1ans = (\n",
    "    math.log10(1200), \n",
    "    math.tan(60/360*2*math.pi),\n",
    "    math.sqrt(20)\n",
    ")"
   ]
  },
  {
   "cell_type": "code",
   "execution_count": 41,
   "metadata": {},
   "outputs": [],
   "source": [
    "def q2f(x):\n",
    "    return [s for _,s in sorted([(len(y),y) for y in x])]"
   ]
  },
  {
   "cell_type": "code",
   "execution_count": 42,
   "metadata": {},
   "outputs": [],
   "source": [
    "def q3f(x):\n",
    "    return len({y:True for y in x})"
   ]
  },
  {
   "cell_type": "code",
   "execution_count": 43,
   "metadata": {},
   "outputs": [],
   "source": [
    "# Question q4\n",
    "def sim(q0,C,a):\n",
    "    q = [q0]\n",
    "    for at in a:\n",
    "        q.append(max(q[-1] + at - C,0))\n",
    "    return q[1:]"
   ]
  },
  {
   "cell_type": "code",
   "execution_count": 44,
   "metadata": {},
   "outputs": [],
   "source": [
    "# Question q5\n",
    "def maptree(x, f):\n",
    "    try:\n",
    "        return [maptree(xx,f) for xx in x]\n",
    "    except TypeError:\n",
    "        return f(x)"
   ]
  }
 ],
 "metadata": {
  "kernelspec": {
   "display_name": "Python 3 (ipykernel)",
   "language": "python",
   "name": "python3"
  },
  "language_info": {
   "codemirror_mode": {
    "name": "ipython",
    "version": 3
   },
   "file_extension": ".py",
   "mimetype": "text/x-python",
   "name": "python",
   "nbconvert_exporter": "python",
   "pygments_lexer": "ipython3",
   "version": "3.10.12"
  }
 },
 "nbformat": 4,
 "nbformat_minor": 4
}
