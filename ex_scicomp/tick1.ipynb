{
 "cells": [
  {
   "cell_type": "markdown",
   "metadata": {},
   "source": [
    "# Tick 1. Econophysics simulator<span id=\"tick2a\"></span>\n",
    "\n",
    "Economic inequality is one of the defining social issues of our age. Yet we have a poor grasp of the scale of inequality,\n",
    "as [described in Scientific American](https://www.scientificamerican.com/article/economic-inequality-it-s-far-worse-than-you-think/) \n",
    "and nicely shown in [this video](https://www.youtube.com/watch?v=QPKKQnijnsM):\n",
    "\n",
    "[<img src=\"res/inequality.png\" style=\"height:16em\">](https://www.youtube.com/watch?v=QPKKQnijnsM)\n",
    "\n",
    "How does inequality arise? Is it an inevitable outcome of liberal economics, and if so how can it be  mitigated by economic policy? These questions [have been studied by economists](https://link.springer.com/article/10.1140/epjst/e2016-60162-3) and more recently \n",
    "[by](https://phys.org/news/2007-04-world-economies-similarities-economic-inequality.html)\n",
    "[physicists](https://arxiv.org/abs/1606.06051).\n",
    "In this assignment you will investigate a simple \"econophysics\" model of inequality.\n",
    "\n",
    "Here is a simple model. There are $N$ individuals in the population, each with an initial wealth of &pound;1. Every timestep, we randomly group them into $N/2$ pairs. (Assume $N$ is even.) For every pair, we simulate an economic exchange, as follows. Let the two paired individuals have wealth $v$ and $w$, and update their wealth according to\n",
    "$$\n",
    "v_{\\text{new}} = R(v+w),\n",
    "\\quad\n",
    "w_{\\text{new}} = (1-R)(v+w)\n",
    "$$\n",
    "where $R$ is a random number in $[0,1]$, chosen independently for every pair and at every timestep.\n",
    "This model is loosely inspired by the physics of gases, in which two gas molecules exchange a random amount of energy whenever they collide, and so it's called the Kinetic Exchange model.\n",
    "\n",
    "We can measure inequality with the [Gini coefficient](https://en.wikipedia.org/wiki/Gini_coefficient),\n",
    "$$\n",
    "G = 2\\frac{\\sum_{i=1}^N i\\, w_{(i)}}{N \\sum_i w_{(i)}} - \\Big(1 + \\frac{1}{N}\\Bigr)\n",
    "$$\n",
    "where $w_{(1)}$ is the smallest value, $w_{(2)}$ the second smallest etc. If everyone has the same wealth then $G=0$; if one person has all the wealth then $G=1-1/N$."
   ]
  },
  {
   "cell_type": "markdown",
   "metadata": {},
   "source": [
    "> _**Extension.** In the kinetic exchange model, the poorest and the richest might swap places after just one transaction, \n",
    "which isn't a great fit for real economics.\n",
    "There's an alternative model for exchange, that will be used in Tick 3, which we might call the \"Value Transfer Model\".\n",
    "As before, suppose that two individuals with wealth $v$ and $w$ respectively are paired, but now let their wealth be updated by_\n",
    "$$\n",
    "v_{\\text{new}} = v + R \\min(v,w),\n",
    "\\quad\n",
    "w_{\\text{new}} = w - R \\min(v,w)\n",
    "$$\n",
    "_where $R$ is now a random number in $[-1,1]$, chosen independently for every pair at every timestep. The idea is that each party to the exchange puts up a certain amount of money, but no more than they can afford._"
   ]
  },
  {
   "cell_type": "markdown",
   "metadata": {},
   "source": [
    "<div style=\"height:3em;\"></div>"
   ]
  },
  {
   "cell_type": "markdown",
   "metadata": {},
   "source": [
    "## Questions\n",
    "\n",
    "Use these autograder settings:\n",
    "```\n",
    "import ucamcl\n",
    "GRADER = ucamcl.autograder('https://markmy.solutions', course='scicomp').subsection('tick1')\n",
    "```\n",
    "\n",
    "<div class=\"alert alert-warning\">This assignment tests your vectorized thinking. You will be asked to run simulations on a population of hundreds of thousands of individuals, over many timesteps. <strong>YOUR CODE MUST USE NUMPY VECTORIZED OPERATIONS</strong> rather than iterating over the population. You may use Python iteration over timesteps.\n",
    "    </div>"
   ]
  },
  {
   "cell_type": "markdown",
   "metadata": {},
   "source": [
    "<div style=\"height:3em;\"></div>"
   ]
  },
  {
   "cell_type": "markdown",
   "metadata": {},
   "source": [
    "**Question 1.** The model needs us to randomly group the population into $N/2$ pairs. \n",
    "We can do this by randomly permuting the vector $[0,...,N-1]$, letting the vector `m1` consist of the first $N/2$ integers and `m2` consist of the rest, and interpreting it as \"`m1[i]` is paired with `m2[i]`\".\n",
    "\n",
    "Write a function `pairs(N)` that returns a tuple `(m1,m2)` where `m1` and `m2` are both vectors of length $N/2$ as described above. For example, if you run `pairs(6)`, you might get the output\n",
    "```\n",
    "(array[3, 0, 1]), array([2, 4, 5]))\n",
    "```\n",
    "To submit your answer,\n",
    "```\n",
    "q = GRADER.fetch_question('q1')\n",
    "m1,m2 = pairs(q.n)\n",
    "ans = {'n': len(np.unique(np.concatenate([m1,m2]))), 's': np.std(np.abs(m1-m2))}\n",
    "GRADER.submit_answer(q, ans)\n",
    "```"
   ]
  },
  {
   "cell_type": "markdown",
   "metadata": {},
   "source": [
    "<div style=\"height:3em;\"></div>"
   ]
  },
  {
   "cell_type": "markdown",
   "metadata": {},
   "source": [
    "**Question 2.** Write a function `kinetic_exchange(v,w)` which takes two wealth vectors `v` and `w`, each of length $N/2$, and returns a tuple `(vnew, wnew)` with two new vectors, according to the kinetic exchange model. To submit your answer,\n",
    "```\n",
    "q = GRADER.fetch_question('q2')\n",
    "v,w = np.linspace(1,5,q.n), np.linspace(1,2,q.n)**q.p\n",
    "vnew,wnew = kinetic_exchange(v,w)\n",
    "ans = {'m1': np.mean(vnew), 's2': np.std(wnew)}\n",
    "GRADER.submit_answer(q, ans)\n",
    "```"
   ]
  },
  {
   "cell_type": "markdown",
   "metadata": {},
   "source": [
    "<div style=\"height:3em;\"></div>"
   ]
  },
  {
   "cell_type": "markdown",
   "metadata": {},
   "source": [
    "**Question 3.** Write a function `gini(w)` which takes a vector `w` and returns the Gini coefficient. To submit your answer,\n",
    "```\n",
    "q = GRADER.fetch_question('q3')\n",
    "w = np.linspace(0,1,q.n)**q.p\n",
    "g = gini(w)\n",
    "GRADER.submit_answer(q, {'g': g})\n",
    "```"
   ]
  },
  {
   "cell_type": "markdown",
   "metadata": {},
   "source": [
    "<div style=\"height:3em;\"></div>"
   ]
  },
  {
   "cell_type": "markdown",
   "metadata": {},
   "source": [
    "**Question 4.** Write a function `sim(N, T)` which runs the kinetic exchange model on a population of $N$ individuals for $T$ timesteps. It should return a pair `(w, gs)` where `w` is the wealth vector after $T$ timesteps, and `gs` is a length $T$ vector where `gs[i]` is the Gini coefficient at timestep $i$. To submit your answer,\n",
    "```\n",
    "q = GRADER.fetch_question('q4')\n",
    "w,gs = sim(q.n, q.t)\n",
    "ans = {'gm': np.mean(gs[int(q.t/2):]), 'gs': np.std(gs[int(q.t/2):]), 'ws': np.std(w)}\n",
    "GRADER.submit_answer(q, ans)\n",
    "```"
   ]
  },
  {
   "cell_type": "markdown",
   "metadata": {},
   "source": [
    "<div style=\"height:3em;\"></div>"
   ]
  },
  {
   "cell_type": "markdown",
   "metadata": {},
   "source": [
    "**Question 5.** Simulate a population of 500,000 over 30 iterations. Plot the Gini coefficient as a function of timestep.\n",
    "To be precise, if $w_t$ is the wealth vector after $t$ timesteps then you should plot $\\textsf{gini}(w_t)$ on the $y$-axis and $t$ on the $x$-axis.\n",
    "\n",
    "Your plot should look something like this. If it doesn't, there's likely a big which will hinder you in later questions.\n",
    "You don't have to submit your plot.\n",
    "\n",
    "![gini coefficient](res/ass2_q5.png)"
   ]
  }
 ],
 "metadata": {
  "kernelspec": {
   "display_name": "Python 3 (ipykernel)",
   "language": "python",
   "name": "python3"
  },
  "language_info": {
   "codemirror_mode": {
    "name": "ipython",
    "version": 3
   },
   "file_extension": ".py",
   "mimetype": "text/x-python",
   "name": "python",
   "nbconvert_exporter": "python",
   "pygments_lexer": "ipython3",
   "version": "3.10.12"
  }
 },
 "nbformat": 4,
 "nbformat_minor": 2
}
