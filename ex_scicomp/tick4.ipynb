{
 "cells": [
  {
   "cell_type": "markdown",
   "metadata": {},
   "source": [
    "# Tick 4. Investigation\n",
    "\n",
    "The economist [Thomas Piketty argues](https://en.wikipedia.org/wiki/Capital_in_the_Twenty-First_Century) that we have entered an age where the return on capital is greater than the growth due to income, and that this leads to higher inequality. Your task is to investigate this idea, and report on your findings.\n",
    "\n",
    "We can incorporate income into our simple model of the economy by assigning each individual $i$ a per-timestep income $g_i$, where the $g_i$ are randomly chosen _a priori_, for example as a random number in the range $[0,1]$. \n",
    "We can incorporate return on capital into the model, by multiplying wealth by a growth factor every timestep.\n",
    "(We should also normalize wealth every timestep. If we didn't then total wealth would increase unboundedly, and we'd need to incorporate wage inflation, and worry about numerical stability.) "
   ]
  },
  {
   "cell_type": "markdown",
   "metadata": {},
   "source": [
    "<div style=\"height:3em;\"></div>"
   ]
  },
  {
   "cell_type": "markdown",
   "metadata": {},
   "source": [
    "**Question 13.** \n",
    "Investigate Piketty's idea, by modifying your simulator in whatever way you decide is appropriate, deciding what to measure, and running simulations and producing appropriate plots.\n",
    "Write a one-page report of your investigation.\n",
    "\n",
    "_This tick is to test that you can separate your thinking into goals + methods + results + conclusion.\n",
    "Please see the [sample report](report.pdf), so you can see what's expected. \n",
    "This is marked as a tick, not as a numerical grade, so there's no extra credit for refined and exciting work &mdash;\n",
    "there's only intellectual satisfaction._\n",
    "\n",
    "_You will be marked purely on how you have structured your report:\n",
    "you will NOT be marked on your code, nor how exhaustively you have run your simulations, nor on the quality of your English language,\n",
    "nor on the depth of your insight. Things to pay attention to:_\n",
    "\n",
    "* _The report MUST be a single page, and it must be legible when printed out on A4 paper._\n",
    "* _There should be four sections as per the sample report: goals, methodology, results, conclusion._\n",
    "* _The methodology section should explain HOW your method will address your stated goals, it shouldn't merely describe what your code does._\n",
    "* _The results section should be a dry statement of your findings, with no spin. Space is tight, so only report the results that\n",
    "contribute to your conclusion._\n",
    "* _The conclusion section should relate to your stated goals, and it must follow on from your results. You're allowed spin here!_\n",
    "* _The methodology section should be clear enough that a well-intentioned and clever reader could reproduce your findings. It's also good scientific practice to make your code available._\n",
    "\n",
    "<div class=\"alert alert-warning\">\n",
    "Please submit two things: (1) a single-page pdf of your report, and (2) a notebook containing the \n",
    "    code behind your report.\n",
    "</div>"
   ]
  }
 ],
 "metadata": {
  "kernelspec": {
   "display_name": "Python 3 (ipykernel)",
   "language": "python",
   "name": "python3"
  },
  "language_info": {
   "codemirror_mode": {
    "name": "ipython",
    "version": 3
   },
   "file_extension": ".py",
   "mimetype": "text/x-python",
   "name": "python",
   "nbconvert_exporter": "python",
   "pygments_lexer": "ipython3",
   "version": "3.10.12"
  }
 },
 "nbformat": 4,
 "nbformat_minor": 2
}
