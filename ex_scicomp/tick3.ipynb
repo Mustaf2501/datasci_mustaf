{
 "cells": [
  {
   "cell_type": "markdown",
   "metadata": {},
   "source": [
    "# Tick 3. Plotting experimental results\n",
    "\n",
    "What is the relationship between inequality and social mobility? Is there a tradeoff? \n",
    "To investigate this, I have run simulations with different levels of taxation, which I would expect to alter both\n",
    "inequality and mobility.\n",
    "\n",
    "Concretely, I used the Value Transfer exchange model mentioned at the end of Tick 1; and I additionally \n",
    "suppose the government imposes a tax of say 40% on every exchange, and each timestep it redistributes the total tax revenue \n",
    "evenly to the entire population as [uniform basic income](https://en.wikipedia.org/wiki/Universal_basic_income).\n",
    "\n",
    "I have run 20 simulation runs at each of 7 different tax rates, giving 140 simulation runs in total.\n",
    "In each run I ran the simulator for $T=5000$ timesteps, by which time it had reached stability. I measured the Gini coefficient at time $T$. \n",
    "I then ran the simulator for a further 100 timesteps\n",
    "and for each time $t\\geq 5000$ I measured $\\textsf{mobility}(w_T, w_{T+t})$. \n",
    "The data I produced is available in two files, shown here with some sample rows:\n",
    "```\n",
    "https://www.cl.cam.ac.uk/teaching/current/SciComp/data/taxubi_summary.csv\n",
    "```\n",
    "|   run |   taxrate | metric   |   time |    value |\n",
    "|------:|----------:|:---------|-------:|---------:|\n",
    "|     3 |      0.01 | mobility |   5025 | 0.27796  |\n",
    "|    61 |      0.15 | gini     |   5000 | 0.964572 |\n",
    "|    76 |      0.15 | mobility |   5090 | 0.41828  |\n",
    "| ... |\n",
    "\n",
    "```\n",
    "https://www.cl.cam.ac.uk/teaching/current/SciComp/data/taxubi_sample.csv\n",
    "```\n",
    "\n",
    "|   run |   taxrate |   time |   person_id |      wealth |\n",
    "|------:|----------:|-------:|------------:|------------:|\n",
    "|     0 |      0.01 |   5078 |           2 | 0.000344682 |\n",
    "|     0 |      0.01 |   5092 |           4 | 2.34652e-05 |\n",
    "|   120 |      0.4  |   5066 |           2 | 0.262878    |\n",
    "| ... |\n",
    "\n",
    "The first file records Gini coefficient and mobility in the `value` column.\n",
    "The second file picks out two of the runs, and a random sample of 10 individuals, and records their wealth at each timepoint $t\\geq 5000$."
   ]
  },
  {
   "cell_type": "markdown",
   "metadata": {},
   "source": [
    "<div style=\"height:3em;\"></div>"
   ]
  },
  {
   "cell_type": "markdown",
   "metadata": {},
   "source": [
    "## Questions\n",
    "\n",
    "<div class=\"alert alert-warning\">For this tick, you are asked to produce plots. \n",
    "Please submit two things: (1) a single-page pdf with all three plots, and (2) your notebook.\n",
    "</div>\n",
    "\n",
    "* You may use matplotlib, or you may prefer to use some other plotting library.\n",
    "* To generate these plots, you will have to manipulate CSV files. You can do this in pure Python, or with `numpy`, or you may\n",
    "like to learn how to use `pandas` which is designed for data manipulation &mdash; but has a bit of a learning curve. There is a pandas tutorial\n",
    "on the Scientific Computing course webpage."
   ]
  },
  {
   "cell_type": "markdown",
   "metadata": {},
   "source": [
    "<div style=\"height:3em;\"></div>"
   ]
  },
  {
   "cell_type": "markdown",
   "metadata": {},
   "source": [
    "**Question 10.** Plot social mobility as a function of time, showing the runs for tax rates 1% and 40%. For each tax rate\n",
    "you should plot 20 lines, one for each simulation run. Also, plot horizontal guidelines at 48% and at 24%.\n",
    "\n",
    "_Your plot should look something like this. You don't have to reproduce it exactly, but you should pay attention to (1) using two\n",
    "different colours, (2) adjusting opacity so the lines aren't occluded, (3) showing the legend.\n",
    "Don't worry about fine-grained control of the plot, such as plot size or colour scheme._\n",
    "\n",
    "<img src=\"res/3mobility.svg\" style=\"height:20em\"/>"
   ]
  },
  {
   "cell_type": "markdown",
   "metadata": {},
   "source": [
    "<div style=\"height:3em;\"></div>"
   ]
  },
  {
   "cell_type": "markdown",
   "metadata": {},
   "source": [
    "**Question 11.** It's useful to &lsquo;eyeball&rsquo; the data &mdash; to look in detail at some individual cases, to get a\n",
    "better picture of what's going on. Plot the rank of each individual's wealth (rank 1 is wealthiest, rank 10 is poorest)\n",
    "for the two simulation runs in `taxubi_sample.csv`.\n",
    "\n",
    "_Your plot should look something like this. You don't have to reproduce it exactly, but you should pay attention to (1) \n",
    "colouring the lines according to wealth-rank at time $T=5000$, (2) the y-axis which has rank 1 at the top, (3) appropriate titles.\n",
    "Don't worry about fine-grained control of the plot, such as plot size or colour scheme._\n",
    "\n",
    "<img src=\"res/3traces.svg\" style=\"height:30em\"/>"
   ]
  },
  {
   "cell_type": "markdown",
   "metadata": {},
   "source": [
    "<div style=\"height:3em;\"></div>"
   ]
  },
  {
   "cell_type": "markdown",
   "metadata": {},
   "source": [
    "**Question 12.** To show how tax rate affects inequality and social mobility, produce the following scatter plot. There should \n",
    "be one point plotted for each tax rate. Its x-coordinate should be the average Gini coefficient over 20 runs, and its y-coordinate\n",
    "should be the average number of timesteps needed to achieve mobility of 24%. For each point plotted, in addition to the mean, there\n",
    "should be x-error-bars and y-error-bars to show the variability between simulation runs.\n",
    "\n",
    "* Why 'time to achieve 24% mobility'? The maximum possible mobility score is 48%, but the simulation runs only approach that value \n",
    "asymptotically. So a reasonable way to report the shape of the mobility curve is to measure the time it takes to reach half way to the maximum.\n",
    "You may find `np.interp` useful for this.\n",
    "\n",
    "* How should variability be measured? For a list of values $[x_1,x_2,\\dots,x_n]$, it's common to report the mean value `np.mean(x)` together with its _standard error_\n",
    "`np.std(x)/np.sqrt(len(x))`.\n",
    "\n",
    "_Your plot should look something like this. You don't have to reproduce it exactly: don't worry about fine-grained control of the plot, such as plot size or colour scheme. This plot shows error bars in red, but they are so small as to be hard to make out. You should pay attention to the legibility of the labelling._\n",
    "\n",
    "<img src=\"res/3tradeoff.svg\" style=\"height:20em\"/>"
   ]
  }
 ],
 "metadata": {
  "kernelspec": {
   "display_name": "Python 3 (ipykernel)",
   "language": "python",
   "name": "python3"
  },
  "language_info": {
   "codemirror_mode": {
    "name": "ipython",
    "version": 3
   },
   "file_extension": ".py",
   "mimetype": "text/x-python",
   "name": "python",
   "nbconvert_exporter": "python",
   "pygments_lexer": "ipython3",
   "version": "3.10.12"
  }
 },
 "nbformat": 4,
 "nbformat_minor": 2
}
